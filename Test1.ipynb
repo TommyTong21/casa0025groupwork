{
 "cells": [
  {
   "cell_type": "markdown",
   "metadata": {},
   "source": [
    "---\n",
    "title: \"我的网页\"\n",
    "author: \"您的名字\"\n",
    "output: html_document\n",
    "---\n",
    "\n",
    "# 欢迎来到我的网页\n",
    "\n",
    "这是通过 Quarto 编写的内容。"
   ]
  },
  {
   "cell_type": "markdown",
   "metadata": {},
   "source": [
    "# This is a test script for the `Climber' project."
   ]
  }
 ],
 "metadata": {
  "language_info": {
   "name": "python"
  }
 },
 "nbformat": 4,
 "nbformat_minor": 2
}
